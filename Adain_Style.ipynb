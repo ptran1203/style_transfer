{
  "nbformat": 4,
  "nbformat_minor": 0,
  "metadata": {
    "colab": {
      "name": "Adain_Style.ipynb",
      "provenance": [],
      "collapsed_sections": [],
      "include_colab_link": true
    },
    "kernelspec": {
      "name": "python3",
      "display_name": "Python 3"
    },
    "accelerator": "GPU"
  },
  "cells": [
    {
      "cell_type": "markdown",
      "metadata": {
        "id": "view-in-github",
        "colab_type": "text"
      },
      "source": [
        "<a href=\"https://colab.research.google.com/github/ptran1203/style_transfer/blob/master/Adain_Style.ipynb\" target=\"_parent\"><img src=\"https://colab.research.google.com/assets/colab-badge.svg\" alt=\"Open In Colab\"/></a>"
      ]
    },
    {
      "cell_type": "code",
      "metadata": {
        "id": "i7z-woM6V8MW",
        "colab_type": "code",
        "colab": {}
      },
      "source": [
        "%tensorflow_version 1.x\n",
        "from google.colab import drive, output\n",
        "data_loaded = False\n",
        "drive.mount('/content/drive')\n",
        "BASE_DIR = \"/content/drive/My Drive/Style_Transfer\"\n",
        "!rm -rf '/content/style_transfer'\n",
        "!git clone https://github.com/ptran1203/style_transfer"
      ],
      "execution_count": null,
      "outputs": []
    },
    {
      "cell_type": "code",
      "metadata": {
        "id": "uWPPRy7y-0jy",
        "colab_type": "code",
        "colab": {}
      },
      "source": [
        "cd style_transfer"
      ],
      "execution_count": null,
      "outputs": []
    },
    {
      "cell_type": "code",
      "metadata": {
        "id": "asS8B2UYR4iR",
        "colab_type": "code",
        "colab": {}
      },
      "source": [
        "import cv2\n",
        "from google.colab.patches import cv2_imshow\n",
        "import numpy as np\n",
        "import pickle\n",
        "import os\n",
        "import utils\n",
        "from dataloader import DataGenerator\n",
        "from model import *\n",
        "\n",
        "class DataGen(DataGenerator):\n",
        "    BATCH_FILES= 4\n",
        "\n",
        "class SModel(StyleTransferModel):\n",
        "    pass\n",
        "\n",
        "\n",
        "style_layer_names=[\n",
        "    'block1_conv1', 'block2_conv1',\n",
        "    'block3_conv1', 'block4_conv1',\n",
        "]\n",
        "last_layer='block4_conv1'\n",
        "pre_trained_model = 'vgg19'\n",
        "rst = 256\n",
        "data_gen = DataGen(BASE_DIR, 8, rst=rst, max_size=1500, multi_batch=False,\n",
        "                   normalize=True)\n",
        "smodel = SModel(BASE_DIR, None, 1e-4,\n",
        "                style_layer_names=style_layer_names,\n",
        "                last_layer=last_layer, \n",
        "                show_interval=5,\n",
        "                style_loss_weight=3.5,\n",
        "                pre_trained_model=pre_trained_model)"
      ],
      "execution_count": null,
      "outputs": []
    },
    {
      "cell_type": "code",
      "metadata": {
        "id": "M6hAej6NAZU1",
        "colab_type": "code",
        "colab": {}
      },
      "source": [
        "smodel.load_weight()\n",
        "smodel.train(data_gen, 500, augment_factor=0)"
      ],
      "execution_count": null,
      "outputs": []
    },
    {
      "cell_type": "code",
      "metadata": {
        "id": "HcTZh9oyPNXs",
        "colab_type": "code",
        "colab": {}
      },
      "source": [
        "urls = [\n",
        "    # 'https://github.com/elleryqueenhomels/arbitrary_style_transfer/raw/master/images/style_thumb/escher_sphere_thumb.jpg',\n",
        "    # 'https://github.com/elleryqueenhomels/arbitrary_style_transfer/raw/master/images/style_thumb/udnie_thumb.jpg',\n",
        "    # 'https://github.com/elleryqueenhomels/arbitrary_style_transfer/raw/master/images/style_thumb/mosaic_thumb.jpg',\n",
        "    # 'https://github.com/elleryqueenhomels/arbitrary_style_transfer/raw/master/images/style_thumb/cat_thumb.jpg'\n",
        "    'https://github.com/lengstrom/fast-style-transfer/blob/master/examples/style/rain_princess.jpg?raw=true',\n",
        "    'https://github.com/lengstrom/fast-style-transfer/blob/master/examples/style/wave.jpg?raw=true',\n",
        "]\n",
        "cimg = utils.http_get_img(\n",
        "    'https://yt3.ggpht.com/a/AATXAJx3V2SYpa27ubB-eIw_vzBgS1QHKcBGj5xAZZ7dQQ=s900-c-k-c0xffffffff-no-rj-mo',\n",
        "    # 'https://github.com/elleryqueenhomels/arbitrary_style_transfer/blob/master/images/content/stata.jpg?raw=true',\n",
        "    512\n",
        ")\n",
        "cv2_imshow(utils.deprocess(utils.de_norm(cimg[0])))\n",
        "for url in urls:\n",
        "    simg = utils.http_get_img(url, 512)\n",
        "    gen = smodel.generate(cimg, simg)\n",
        "    \n",
        "    cv2_imshow(utils.deprocess(utils.de_norm(simg[0])))\n",
        "    cv2_imshow(utils.deprocess(utils.de_norm(gen[0])))"
      ],
      "execution_count": null,
      "outputs": []
    }
  ]
}